{
 "cells": [
  {
   "cell_type": "code",
   "execution_count": 7,
   "metadata": {},
   "outputs": [],
   "source": [
    "import numpy as np\n",
    "import cv2\n",
    "import tensorflow as tf \n",
    "\n",
    "# 드래그를 구현하려면 LBUTTON_DOWN 때 별도의 파라미터를 on/off 식으로 바꿔주면 됨\n",
    "drawing = False\n",
    "pt_x, pt_y = None, None # cv2.circle은 그리는 선이 끊기는 듯함\n",
    "                        # 그래서 cv2.line의 끝 점을 설정하기 위해 별도의 변수를 둠\n",
    "\n",
    "# 마우스 그리기\n",
    "def draw_lines(event, x, y, flags, param):\n",
    "\n",
    "    global drawing, pt_x, pt_y\n",
    "\n",
    "    if event == cv2.EVENT_LBUTTONDOWN:\n",
    "        drawing = True\n",
    "        pt_x, pt_y = x, y\n",
    "\n",
    "    elif event == cv2.EVENT_MOUSEMOVE:\n",
    "        if drawing == True:\n",
    "            cv2.line(img, (pt_x, pt_y), (x, y), color = (0, 0, 0), thickness = 2, lineType = cv2.LINE_AA)\n",
    "            pt_x, pt_y = x, y\n",
    "\n",
    "    elif event == cv2.EVENT_LBUTTONUP:\n",
    "        drawing = False\n",
    "        cv2.line(img, (pt_x, pt_y), (x, y), color = (0, 0, 0), thickness = 2, lineType = cv2.LINE_AA)\n",
    "\n",
    "# 일단 MNIST 필기체 인식부터 시작. 바탕은 흰색으로 ㄱㄱ\n",
    "img = np.ones((100, 100, 3), dtype = np.uint8) * 255\n",
    "cv2.namedWindow('image')\n",
    "cv2.setMouseCallback('image', draw_lines)\n",
    "\n",
    "while True:\n",
    "    cv2.imshow('image', img)\n",
    "\n",
    "    # 구현은 필기체 작성 -> 이미지를 추론 모델에 집어넣음 -> 예측 결과를 반환 하는 방식으로 이루어질 듯\n",
    "\n",
    "\n",
    "    if cv2.waitKey(12) == ord('q') or cv2.waitKey(12) == ord('Q'):\n",
    "        break\n",
    "\n",
    "cv2.destroyAllWindows()\n",
    "\n"
   ]
  },
  {
   "cell_type": "code",
   "execution_count": null,
   "metadata": {},
   "outputs": [],
   "source": []
  }
 ],
 "metadata": {
  "kernelspec": {
   "display_name": "Python 3.9.6 64-bit",
   "language": "python",
   "name": "python3"
  },
  "language_info": {
   "codemirror_mode": {
    "name": "ipython",
    "version": 3
   },
   "file_extension": ".py",
   "mimetype": "text/x-python",
   "name": "python",
   "nbconvert_exporter": "python",
   "pygments_lexer": "ipython3",
   "version": "3.9.6"
  },
  "orig_nbformat": 4,
  "vscode": {
   "interpreter": {
    "hash": "11938c6bc6919ae2720b4d5011047913343b08a43b18698fd82dedb0d4417594"
   }
  }
 },
 "nbformat": 4,
 "nbformat_minor": 2
}
